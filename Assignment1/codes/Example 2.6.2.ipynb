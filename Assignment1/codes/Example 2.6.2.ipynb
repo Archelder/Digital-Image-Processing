{
 "cells": [
  {
   "cell_type": "markdown",
   "id": "d98c1c0d-b37a-4025-a358-1ea6303343ed",
   "metadata": {},
   "source": [
    "# Jupyter Script and Running Result for Example 2.6.2\n",
    "Import Dependencies."
   ]
  },
  {
   "cell_type": "code",
   "execution_count": null,
   "id": "93436f93-c7d1-46a9-a714-19c04039fa16",
   "metadata": {},
   "outputs": [],
   "source": [
    "import cv2\n",
    "import matplotlib.pyplot as plot\n",
    "import numpy as np"
   ]
  },
  {
   "cell_type": "markdown",
   "id": "0bbbfc3b-1581-4512-9c6d-749ed069cde4",
   "metadata": {},
   "source": [
    " Load the images as gray."
   ]
  },
  {
   "cell_type": "code",
   "execution_count": null,
   "id": "4ce1c4b0-5b1d-4e86-843b-e97ec484d080",
   "metadata": {},
   "outputs": [],
   "source": [
    "mask_img = cv2.imread('../images/Fig0228(a)(angiography_mask_image).png', flags=0)\n",
    "live_img = cv2.imread('../images/Fig0228(b)(angiography_live_image).png', flags=0)"
   ]
  },
  {
   "cell_type": "markdown",
   "id": "f9c27f04-b202-41f6-9cb0-99146b638bb9",
   "metadata": {},
   "source": [
    "Obtain the differences between mask image and live image, using function *cv2.substract()*."
   ]
  },
  {
   "cell_type": "code",
   "execution_count": null,
   "id": "45b185d1-8ab9-462c-8269-c276f5d361d7",
   "metadata": {},
   "outputs": [],
   "source": [
    "diff_img = cv2.subtract(mask_img, live_img)"
   ]
  },
  {
   "cell_type": "markdown",
   "source": [
    "Enhence the differences image, adjusting gamma."
   ],
   "metadata": {
    "collapsed": false
   }
  },
  {
   "cell_type": "code",
   "execution_count": null,
   "outputs": [],
   "source": [
    "enhenced_img = diff_img / 255.0\n",
    "enhenced_img = np.power(enhenced_img, 0.7)\n",
    "enhenced_img *= 255"
   ],
   "metadata": {
    "collapsed": false
   }
  },
  {
   "cell_type": "markdown",
   "id": "55a5e7f7-d519-49a7-b230-4df9656b60c8",
   "metadata": {},
   "source": [
    "Display the results."
   ]
  },
  {
   "cell_type": "code",
   "execution_count": null,
   "id": "83d1733b-647f-428a-9638-dd4d903fa099",
   "metadata": {},
   "outputs": [],
   "source": [
    "plot.subplot(221), plot.imshow(mask_img, cmap='gray'), plot.title('make image'), plot.axis('off')\n",
    "plot.subplot(222), plot.imshow(live_img, cmap='gray'), plot.title('live image'), plot.axis('off')\n",
    "plot.subplot(223), plot.imshow(diff_img, cmap='gray'), plot.title('differences image'), plot.axis('off')\n",
    "plot.subplot(224), plot.imshow(enhenced_img, cmap='gray'), plot.title('enhenced image'), plot.axis('off')\n",
    "plot.savefig('../images/Results Example 2.6.2.png')\n",
    "plot.show()\n"
   ]
  }
 ],
 "metadata": {
  "kernelspec": {
   "display_name": "Python 3 (ipykernel)",
   "language": "python",
   "name": "python3"
  },
  "language_info": {
   "codemirror_mode": {
    "name": "ipython",
    "version": 3
   },
   "file_extension": ".py",
   "mimetype": "text/x-python",
   "name": "python",
   "nbconvert_exporter": "python",
   "pygments_lexer": "ipython3",
   "version": "3.9.16"
  }
 },
 "nbformat": 4,
 "nbformat_minor": 5
}
